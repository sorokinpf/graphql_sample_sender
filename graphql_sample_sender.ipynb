{
 "cells": [
  {
   "cell_type": "markdown",
   "metadata": {},
   "source": [
    "## GraphQL sample sender\n",
    "\n",
    "Send all possible graphql requests defined in SDL throw proxy. Helps in security testing graphql applications.\n",
    "\n",
    "Input is output of `gql-generator`, witch parse SDL.\n",
    "\n",
    "https://github.com/timqian/gql-generator\n",
    "\n",
    "```\n",
    "npm install gql-generator -g\n",
    "gqlg --schemaFilePath ./example/sampleTypeDef.graphql --destDirPath ./example/output --depthLimit 2\n",
    "```\n",
    "`depthLimit` should equals 2\n",
    "\n",
    "You have to specify  \n",
    "`files` - list of gpl files from `gqlg` with requests  \n",
    "`target_uri` - target uri  \n",
    "`http_proxy` if you want to catch requests in Burp  \n",
    "`dafault_table` is default values for common types.  \n",
    "\n",
    "Script sends multiple HTTP requests for one request in file if request takes parameters with type with multiple default values.\n",
    "\n",
    "For example \n",
    "`query1(var1: $var1, var2: $var2){..`\n",
    "\n",
    "if var1 and var2 have type ID!, than script sends 4 request:\n",
    "```\n",
    "var1: \"1\", var2: \"1\"\n",
    "var1: \"1\", var2: \"9ed466cc-c371-11e6-934f-1579baf24309\"\n",
    "var1: \"9ed466cc-c371-11e6-934f-1579baf24309\", var2: \"1\"\n",
    "var1: \"9ed466cc-c371-11e6-934f-1579baf24309\", var2: \"9ed466cc-c371-11e6-934f-1579baf24309\"\n",
    "```\n",
    "\n",
    "If parameter is nullable script exclude it."
   ]
  },
  {
   "cell_type": "code",
   "execution_count": 1,
   "metadata": {},
   "outputs": [],
   "source": [
    "import re\n",
    "import requests\n",
    "import json\n",
    "import urllib3\n",
    "urllib3.disable_warnings()\n"
   ]
  },
  {
   "cell_type": "code",
   "execution_count": 416,
   "metadata": {},
   "outputs": [],
   "source": [
    "files = ['businessAdmin.gql',\n",
    "'externalContent.gql',\n",
    "'gamification.gql',\n",
    "'student.gql',\n",
    "'systemAdmin.gql',\n",
    "'teacher.gql',\n",
    "'user.gql'\n",
    "        ]\n",
    "\n",
    "target_uri = 'https://x/graphql?access_token=%s'\n",
    "access_token = 'xxx'\n",
    "target_uri = target_uri % access_token\n",
    "http_proxy   = \"http://localhost:8080\"\n",
    "\n",
    "proxyDict = { \n",
    "             \"https\"   : http_proxy\n",
    "            }"
   ]
  },
  {
   "cell_type": "code",
   "execution_count": 389,
   "metadata": {},
   "outputs": [],
   "source": [
    "def run_query(query): # A simple function to use requests.post to make the API call. Note the json= section.\n",
    "    request = requests.post(target_uri, json=query, proxies=proxyDict,verify=False)#headers=headers\n",
    "    if request.status_code == 200:\n",
    "        return request.json()\n",
    "    else:\n",
    "        return request\n",
    "        raise Exception(\"Query failed to run by returning code of {}. {}\".format(request.status_code, request.text))\n"
   ]
  },
  {
   "cell_type": "code",
   "execution_count": 407,
   "metadata": {},
   "outputs": [],
   "source": [
    "\n",
    "default_table = {'String':['\"Hahaha\"'],\n",
    "                 'ID':['\"1\"','\"9ed466cc-c371-11e6-934f-1579baf24309\"'],\n",
    "                 '[ID!]':[['\"1\"'],['\"9ed466cc-c371-11e6-934f-1579baf24309\"']],\n",
    "                 'Int':['\"1\"']}\n"
   ]
  },
  {
   "cell_type": "code",
   "execution_count": 391,
   "metadata": {},
   "outputs": [],
   "source": [
    "def apply_re_sub_for_strings(strings,pattern,replaces):\n",
    "    res = []\n",
    "    for s in strings:\n",
    "        for r in replaces:\n",
    "            res.append(re.sub(pattern,r,s))\n",
    "    return res"
   ]
  },
  {
   "cell_type": "code",
   "execution_count": 417,
   "metadata": {},
   "outputs": [
    {
     "name": "stdout",
     "output_type": "stream",
     "text": [
      "No default value for type: ContentProviderInput\n",
      "No default value for type: ContentLoadInput\n",
      "No default value for type: FilterExternalTaskInput\n",
      "No default value for type: DateTime\n",
      "No default value for type: DateTime\n",
      "No default value for type: DateTime\n",
      "No default value for type: DateTime\n"
     ]
    }
   ],
   "source": [
    "for fl in files:\n",
    "    data = open(fl).read()\n",
    "    l1 = data.split('\\n')[0]\n",
    "    variables_s = re.findall('(\\$[^:]*):\\s([^,\\)]*)',l1)\n",
    "    var_types = {}\n",
    "    for x in variables_s:\n",
    "        var_types[x[0]] = x[1]\n",
    "    request_type = re.findall('^[^\\ ]*',data)[0]\n",
    "    module = re.findall('\\n\\ {4}([^\\ \\n]*)\\{',data)[0]\n",
    "    functions = re.findall('(\\ {8}[^\\n]*\\{[^\\}]*})',data)\n",
    "    new_query_tmpl = 'query{\\n' + data.split('\\n')[1] + '''\n",
    "%s    \n",
    "    }\n",
    "}'''\n",
    "    for f in functions:\n",
    "        #if 'getTaskAvailableSchools' not in f:\n",
    "        #    continue\n",
    "        function_vars = re.findall('(\\$[^,\\)]*)',f)\n",
    "        cur_funcs = [f]\n",
    "        try:\n",
    "            for v in function_vars:\n",
    "                t = var_types[v]\n",
    "                if t[-1]!='!':#null possible\n",
    "                    cur_funcs = apply_re_sub_for_strings(cur_funcs,\n",
    "                                                         ',?\\\\s?[^\\(,]*\\\\%s(,?\\)?)'%v,\n",
    "                                                        ['\\\\1'])\n",
    "                    #print cur_funcs\n",
    "                    #cur_func = re.sub(',?\\\\s?[^\\(,]*\\\\%s,?([\\)]?)'%v,'\\\\1',cur_func)\n",
    "                    continue\n",
    "                t = t[:-1]\n",
    "                if t not in default_table:\n",
    "                    raise Exception('No default value for type: %s' % t)\n",
    "                else:#paste default value\n",
    "                    cur_funcs = apply_re_sub_for_strings(cur_funcs,\n",
    "                                        '(,?\\\\s?[^\\(,]*)\\\\%s(,?\\)?)'%v\n",
    "                                        ,['\\\\1%s\\\\2'%x for x in default_table[t]])\n",
    "                    #print cur_funcs\n",
    "                    #re.sub('(,?\\\\s?[^\\(,]*)\\\\%s,?([\\)]?)'%v,'\\\\1%s\\\\2'%default_table[t],cur_func)\n",
    "            cur_funcs = apply_re_sub_for_strings(cur_funcs,\n",
    "                                                '(\\(\\))',[''])\n",
    "           \n",
    "            for cur_func in cur_funcs:\n",
    "                json_request = {'operationName':\"\",\n",
    "                   'variables':{},\n",
    "                   'query':new_query_tmpl%(cur_func)}\n",
    "                run_query(json_request)\n",
    "        except Exception as error:\n",
    "            print str(error)\n",
    "            continue\n"
   ]
  }
 ],
 "metadata": {
  "kernelspec": {
   "display_name": "Python 2",
   "language": "python",
   "name": "python2"
  },
  "language_info": {
   "codemirror_mode": {
    "name": "ipython",
    "version": 2
   },
   "file_extension": ".py",
   "mimetype": "text/x-python",
   "name": "python",
   "nbconvert_exporter": "python",
   "pygments_lexer": "ipython2",
   "version": "2.7.16"
  }
 },
 "nbformat": 4,
 "nbformat_minor": 2
}
